{
 "cells": [
  {
   "cell_type": "markdown",
   "id": "62ed5ad0-350b-41e7-bcea-b271dd124e5f",
   "metadata": {},
   "source": [
    "## mannix/defog-llama3-sqlcoder-8b\n",
    "\n",
    "### Hardware Specification --> RTX 3090 24GB"
   ]
  },
  {
   "cell_type": "code",
   "execution_count": 1,
   "id": "cbef78e8-2fa8-4cce-bef1-4a2a302f84da",
   "metadata": {},
   "outputs": [],
   "source": [
    "# !pip install ollama\n",
    "# !pip install sqlparse\n",
    "# !pip install langchain-core\n",
    "# !pip install langchain_community"
   ]
  },
  {
   "cell_type": "code",
   "execution_count": 4,
   "id": "a57af071-70fc-460e-9455-1a8066742a53",
   "metadata": {},
   "outputs": [],
   "source": [
    "from langchain_community.llms import Ollama\n",
    "from langchain_core.output_parsers import StrOutputParser\n",
    "from langchain_core.prompts import PromptTemplate\n",
    "import sqlparse\n",
    "import time"
   ]
  },
  {
   "cell_type": "code",
   "execution_count": 5,
   "id": "e97821b7-3161-41fc-9bd4-756bf4681b47",
   "metadata": {},
   "outputs": [],
   "source": [
    "template = \"\"\"<|begin_of_text|><|start_header_id|>user<|end_header_id|>\n",
    "\n",
    "Generate a SQL query to answer this question: `{question}`\n",
    "\n",
    "DDL statements:\n",
    "\n",
    "CREATE TABLE Customers (\n",
    "    CustomerID INT PRIMARY KEY,               -- Unique identifier for the customer\n",
    "    FirstName VARCHAR(50),                    -- Customer's first name\n",
    "    LastName VARCHAR(50),                     -- Customer's last name\n",
    "    Email VARCHAR(100),                       -- Customer's email address\n",
    "    Phone VARCHAR(15),                        -- Customer's phone number\n",
    "    Address VARCHAR(200)                      -- Customer's address\n",
    ");\n",
    "\n",
    "\n",
    "CREATE TABLE Orders (\n",
    "    OrderID INT PRIMARY KEY,                  -- Unique identifier for the order\n",
    "    CustomerID INT,                           -- ID of the customer who placed the order\n",
    "    OrderDate DATE,                           -- Date the order was placed\n",
    "    ShipperID INT,                            -- ID of the shipper handling the order\n",
    "    TotalAmount DECIMAL(10, 2),               -- Total amount for the order\n",
    "    FOREIGN KEY (CustomerID) REFERENCES Customers(CustomerID),  -- Foreign key to Customers table\n",
    "    FOREIGN KEY (ShipperID) REFERENCES Shippers(ShipperID)      -- Foreign key to Shippers table\n",
    ");\n",
    "\n",
    "\n",
    "CREATE TABLE Products (\n",
    "    ProductID INT PRIMARY KEY,                -- Unique identifier for the product\n",
    "    ProductName VARCHAR(100),                 -- Name of the product\n",
    "    SupplierID INT,                           -- ID of the supplier providing the product\n",
    "    CategoryID INT,                           -- ID of the category the product belongs to\n",
    "    UnitPrice DECIMAL(10, 2),                 -- Price per unit of the product\n",
    "    UnitsInStock INT,                         -- Number of units currently in stock\n",
    "    FOREIGN KEY (SupplierID) REFERENCES Suppliers(SupplierID),  -- Foreign key to Suppliers table\n",
    "    FOREIGN KEY (CategoryID) REFERENCES Categories(CategoryID)  -- Foreign key to Categories table\n",
    ");\n",
    "\n",
    "CREATE TABLE Categories (\n",
    "    CategoryID INT PRIMARY KEY,               -- Unique identifier for the category\n",
    "    CategoryName VARCHAR(50)                  -- Name of the category\n",
    ");\n",
    "\n",
    "CREATE TABLE OrderDetails (\n",
    "    OrderDetailID INT PRIMARY KEY,            -- Unique identifier for the order detail\n",
    "    OrderID INT,                              -- ID of the order\n",
    "    ProductID INT,                            -- ID of the product\n",
    "    Quantity INT,                             -- Quantity of the product ordered\n",
    "    UnitPrice DECIMAL(10, 2),                 -- Unit price of the product at the time of the order\n",
    "    FOREIGN KEY (OrderID) REFERENCES Orders(OrderID),          -- Foreign key to Orders table\n",
    "    FOREIGN KEY (ProductID) REFERENCES Products(ProductID)     -- Foreign key to Products table\n",
    ");\n",
    "\n",
    "CREATE TABLE Suppliers (\n",
    "    SupplierID INT PRIMARY KEY,               -- Unique identifier for the supplier\n",
    "    SupplierName VARCHAR(100),                -- Name of the supplier\n",
    "    ContactName VARCHAR(50),                  -- Contact person's name at the supplier\n",
    "    ContactEmail VARCHAR(100),                -- Contact person's email at the supplier\n",
    "    Phone VARCHAR(15),                        -- Supplier's phone number\n",
    "    Address VARCHAR(200)                      -- Supplier's address\n",
    ");\n",
    "\n",
    "CREATE TABLE Shippers (\n",
    "    ShipperID INT PRIMARY KEY,                -- Unique identifier for the shipper\n",
    "    ShipperName VARCHAR(100),                 -- Name of the shipper\n",
    "    Phone VARCHAR(15)                         -- Shipper's phone number\n",
    ");\n",
    "\n",
    "CREATE TABLE Employees (\n",
    "    EmployeeID INT PRIMARY KEY,               -- Unique identifier for the employee\n",
    "    FirstName VARCHAR(50),                    -- Employee's first name\n",
    "    LastName VARCHAR(50),                     -- Employee's last name\n",
    "    Email VARCHAR(100),                       -- Employee's email address\n",
    "    Phone VARCHAR(15),                        -- Employee's phone number\n",
    "    HireDate DATE                             -- Date the employee was hired\n",
    ");\n",
    "\n",
    "CREATE TABLE Reviews (\n",
    "    ReviewID INT PRIMARY KEY,                 -- Unique identifier for the review\n",
    "    ProductID INT,                            -- ID of the product being reviewed\n",
    "    CustomerID INT,                           -- ID of the customer who wrote the review\n",
    "    Rating INT,                               -- Rating given by the customer (1-5)\n",
    "    Comment VARCHAR(500),                     -- Review comment\n",
    "    ReviewDate DATE,                          -- Date the review was written\n",
    "    FOREIGN KEY (ProductID) REFERENCES Products(ProductID),    -- Foreign key to Products table\n",
    "    FOREIGN KEY (CustomerID) REFERENCES Customers(CustomerID)  -- Foreign key to Customers table\n",
    ");\n",
    "\n",
    "CREATE TABLE Inventory (\n",
    "    InventoryID INT PRIMARY KEY,              -- Unique identifier for the inventory record\n",
    "    ProductID INT,                            -- ID of the product in the inventory\n",
    "    Quantity INT,                             -- Quantity of the product available in inventory\n",
    "    Location VARCHAR(100),                    -- Location of the inventory\n",
    "    LastUpdated DATE,                         -- Date when the inventory was last updated\n",
    "    FOREIGN KEY (ProductID) REFERENCES Products(ProductID)    -- Foreign key to Products table\n",
    ");\n",
    "\n",
    "The following SQL query best answers the question `{question}`:\n",
    "```sql\n",
    "\"\"\"\n"
   ]
  },
  {
   "cell_type": "code",
   "execution_count": 6,
   "id": "9165feda-822a-4c7f-8381-fdfca5c4ca6b",
   "metadata": {},
   "outputs": [],
   "source": [
    "llm = Ollama(base_url=\"http://172.27.222.2:11434\",\n",
    "    model=\"mannix/defog-llama3-sqlcoder-8b\" , temperature = 0 \n",
    ") "
   ]
  },
  {
   "cell_type": "code",
   "execution_count": 7,
   "id": "fb74184f-f2c8-4c46-8df5-09a26f3a50ee",
   "metadata": {},
   "outputs": [],
   "source": [
    "prompt = PromptTemplate.from_template(template=template)\n",
    "chain = prompt | llm | StrOutputParser()"
   ]
  },
  {
   "cell_type": "markdown",
   "id": "26c057fb-48e6-4ca7-8f4c-04cf544b53f2",
   "metadata": {},
   "source": [
    "### Q1- Ground Truth\n",
    "SELECT FirstName\n",
    "\n",
    "FROM Customers\n",
    "\n",
    "WHERE CustomerID = 1;"
   ]
  },
  {
   "cell_type": "code",
   "execution_count": 6,
   "id": "67b8d41b-6f99-4da9-8487-9cafe10c01b9",
   "metadata": {},
   "outputs": [
    {
     "name": "stdout",
     "output_type": "stream",
     "text": [
      "SELECT c.FirstName FROM Customers c WHERE c.CustomerID = 1;\n",
      "Time taken to run: 3.475586572999873\n"
     ]
    }
   ],
   "source": [
    "t1 = time.perf_counter()\n",
    "query = \"What is the first name of the customer with CustomerID 1?\"\n",
    "response = chain.invoke(query)\n",
    "print(sqlparse.format(response))\n",
    "t2 = time.perf_counter()\n",
    "print(\"Time taken to run:\",t2-t1)   # Correct"
   ]
  },
  {
   "cell_type": "markdown",
   "id": "24be865a-d7b6-4344-a73f-cee37862662a",
   "metadata": {},
   "source": [
    "### Q2 - Ground Truth\n",
    "SELECT ShipperName FROM Shippers WHERE ShipperID = 2;"
   ]
  },
  {
   "cell_type": "code",
   "execution_count": 8,
   "id": "cfaa7890-b9a6-4aaf-a5cb-3928462dffea",
   "metadata": {},
   "outputs": [
    {
     "name": "stdout",
     "output_type": "stream",
     "text": [
      "SELECT s.ShipperName FROM Shippers s WHERE s.ShipperID = 2;\n",
      "Time taken to run: 1.0060667090001516\n"
     ]
    }
   ],
   "source": [
    "t1 = time.perf_counter()\n",
    "query = \"What is the name of the shipper with ShipperID 2?\"\n",
    "response = chain.invoke(query)\n",
    "print(sqlparse.format(response))\n",
    "t2 = time.perf_counter()\n",
    "print(\"Time taken to run:\",t2-t1)  # Correct"
   ]
  },
  {
   "cell_type": "markdown",
   "id": "52fb8583-8503-4b11-9f67-eac5d47fc567",
   "metadata": {},
   "source": [
    "### Q3-Ground Truth\n",
    "SELECT UnitPrice FROM Products WHERE ProductID = 3;"
   ]
  },
  {
   "cell_type": "code",
   "execution_count": 9,
   "id": "a399294d-783d-4cda-aa79-1593c2706cef",
   "metadata": {},
   "outputs": [
    {
     "name": "stdout",
     "output_type": "stream",
     "text": [
      "SELECT p.UnitPrice FROM Products p WHERE p.ProductID = 3;\n",
      "Time taken to run: 0.7808351650000986\n"
     ]
    }
   ],
   "source": [
    "t1 = time.perf_counter()\n",
    "query = \"What is the unit price of the product with ProductID 3?\"\n",
    "response = chain.invoke(query)\n",
    "print(sqlparse.format(response))\n",
    "t2 = time.perf_counter()\n",
    "print(\"Time taken to run:\",t2-t1)  # correct"
   ]
  },
  {
   "cell_type": "markdown",
   "id": "9ba544b1-ae0c-4dde-a9e9-d67051795fd2",
   "metadata": {},
   "source": [
    "### Q4-Ground Truth\n",
    "SELECT c.FirstName, c.LastName\n",
    "\n",
    "FROM Customers c\n",
    "\n",
    "JOIN Orders o ON c.CustomerID = o.CustomerID\n",
    "\n",
    "WHERE o.OrderID = 2;"
   ]
  },
  {
   "cell_type": "code",
   "execution_count": 10,
   "id": "1bbed52f-7462-4fdb-8cc0-2c17076b17a8",
   "metadata": {},
   "outputs": [
    {
     "name": "stdout",
     "output_type": "stream",
     "text": [
      "SELECT c.FirstName, c.LastName FROM Customers c JOIN Orders o ON c.CustomerID = o.CustomerID WHERE o.OrderID = 2;\n",
      "Time taken to run: 0.9637540409999019\n"
     ]
    }
   ],
   "source": [
    "t1 = time.perf_counter()\n",
    "query = \"Which customer placed the order with OrderID 2?\"\n",
    "response = chain.invoke(query)\n",
    "print(sqlparse.format(response))\n",
    "t2 = time.perf_counter()\n",
    "print(\"Time taken to run:\",t2-t1)  # Correct"
   ]
  },
  {
   "cell_type": "markdown",
   "id": "2038a060-1829-4a39-96f2-255c94fd70e0",
   "metadata": {},
   "source": [
    "### Q5-Ground Truth\n",
    "SELECT TotalAmount FROM Orders\n",
    "\n",
    "WHERE OrderDate = '2023-05-01';"
   ]
  },
  {
   "cell_type": "code",
   "execution_count": 8,
   "id": "0f11b885-f779-4843-abc1-87e3b3af1b07",
   "metadata": {},
   "outputs": [
    {
     "name": "stdout",
     "output_type": "stream",
     "text": [
      "SELECT SUM(o.TotalAmount) AS TotalOrderAmount FROM Orders o WHERE o.OrderDate = '2023-05-01';\n",
      "Time taken to run: 2.692882389999795\n"
     ]
    },
    {
     "data": {
      "text/plain": [
       "\"These queries are not functionally the same:\\n\\nGround Truth: Retrieves the TotalAmount of the order(s) placed on '2023-05-01'.\\nModel: Retrieves the sum of TotalAmount for all orders placed on '2023-05-01'.\""
      ]
     },
     "execution_count": 8,
     "metadata": {},
     "output_type": "execute_result"
    }
   ],
   "source": [
    "t1 = time.perf_counter()\n",
    "query = \"What is the total amount of the order placed on '2023-05-01'?\"\n",
    "response = chain.invoke(query)\n",
    "print(sqlparse.format(response))\n",
    "t2 = time.perf_counter()\n",
    "print(\"Time taken to run:\",t2-t1)    # Wrong\n",
    "\n",
    "# Explanation\n",
    "'''These queries are not functionally the same:\n",
    "\n",
    "Ground Truth: Retrieves the TotalAmount of the order(s) placed on '2023-05-01'.\n",
    "Model: Retrieves the sum of TotalAmount for all orders placed on '2023-05-01'.'''"
   ]
  },
  {
   "cell_type": "markdown",
   "id": "7efd4f33-3439-43bd-be34-15d2f10a9dcc",
   "metadata": {},
   "source": [
    "### Q6-Ground Truth\n",
    "SELECT UnitsInStock FROM Products WHERE ProductID = 5;"
   ]
  },
  {
   "cell_type": "code",
   "execution_count": 12,
   "id": "67758f25-a8a4-4001-ba3c-75a2214d5357",
   "metadata": {},
   "outputs": [
    {
     "name": "stdout",
     "output_type": "stream",
     "text": [
      "SELECT p.UnitsInStock FROM Products p WHERE p.ProductID = 5;\n",
      "Time taken to run: 0.8035030999999435\n"
     ]
    }
   ],
   "source": [
    "t1 = time.perf_counter()\n",
    "query = \"How many units of the product with ProductID 5 are currently in stock?\"\n",
    "response = chain.invoke(query)\n",
    "print(sqlparse.format(response))\n",
    "t2 = time.perf_counter()\n",
    "print(\"Time taken to run:\",t2-t1)   # Correct"
   ]
  },
  {
   "cell_type": "markdown",
   "id": "a055063d-f5c9-4678-87bf-ac203a440f85",
   "metadata": {},
   "source": [
    "### Q7 - Ground Truth\n",
    "SELECT SUM(od.Quantity) AS TotalQuantity FROM OrderDetails od JOIN Products p ON od.ProductID = p.ProductID WHERE p.ProductName = 'Smartphone';\n",
    "\n"
   ]
  },
  {
   "cell_type": "code",
   "execution_count": 10,
   "id": "6f14b72a-bfcc-4e0e-a38b-c0b2a932249a",
   "metadata": {},
   "outputs": [
    {
     "name": "stdout",
     "output_type": "stream",
     "text": [
      "SELECT SUM(od.Quantity) AS TotalQuantity FROM OrderDetails od JOIN Products p ON od.ProductID = p.ProductID WHERE LOWER(p.ProductName) = 'smartphone';\n",
      "Time taken to run: 2.7588323010004387\n"
     ]
    },
    {
     "data": {
      "text/plain": [
       "\"Ground Truth: Matches 'Smartphone' directly.\\nModel: Uses LOWER() function to make the comparison case-insensitive.\\nThese queries are not functionally identical due to the case sensitivity handling.\""
      ]
     },
     "execution_count": 10,
     "metadata": {},
     "output_type": "execute_result"
    }
   ],
   "source": [
    "t1 = time.perf_counter()\n",
    "query = \"What is the total quantity of 'Smartphone' ordered?\"\n",
    "response = chain.invoke(query)\n",
    "print(sqlparse.format(response))\n",
    "t2 = time.perf_counter()\n",
    "print(\"Time taken to run:\",t2-t1)  # Wrong\n",
    "\n",
    "#Explanation \n",
    "\n",
    "'''Ground Truth: Matches 'Smartphone' directly.\n",
    "Model: Uses LOWER() function to make the comparison case-insensitive.\n",
    "These queries are not functionally identical due to the case sensitivity handling.'''"
   ]
  },
  {
   "cell_type": "markdown",
   "id": "dba07168-b813-423e-a2a4-9504e360aca0",
   "metadata": {},
   "source": [
    "### Q8 - Ground Truth\n",
    "SELECT c.FirstName, c.LastName FROM Customers c JOIN Reviews r ON c.CustomerID = r.CustomerID WHERE r.Rating = 5;"
   ]
  },
  {
   "cell_type": "code",
   "execution_count": 9,
   "id": "5526a8e8-12f4-4194-ada5-cd787a9705e6",
   "metadata": {},
   "outputs": [
    {
     "name": "stdout",
     "output_type": "stream",
     "text": [
      "SELECT c.FirstName, c.LastName FROM Customers c JOIN Reviews r ON c.CustomerID = r.CustomerID WHERE r.Rating = 5;\n",
      "Time taken to run: 0.933211248000589\n"
     ]
    },
    {
     "data": {
      "text/plain": [
       "\"Ground Truth: Matches 'Smartphone' directly.\\nModel: Uses LOWER() function to make the comparison case-insensitive.\\nThese queries are not functionally identical due to the case sensitivity handling.\""
      ]
     },
     "execution_count": 9,
     "metadata": {},
     "output_type": "execute_result"
    }
   ],
   "source": [
    "t1 = time.perf_counter()\n",
    "query = \"List the names of customers who have written reviews with a rating of 5.?\"\n",
    "response = chain.invoke(query)\n",
    "print(sqlparse.format(response))\n",
    "t2 = time.perf_counter()\n",
    "print(\"Time taken to run:\",t2-t1)  # correct"
   ]
  },
  {
   "cell_type": "markdown",
   "id": "f04912c8-a7c5-43c3-867b-4a50d8fb4029",
   "metadata": {},
   "source": [
    "### Q9 - Ground Truth\n",
    "SELECT AVG(r.Rating) AS AverageRating FROM Reviews r JOIN Products p ON r.ProductID = p.ProductID WHERE p.ProductName = 'Tablet';"
   ]
  },
  {
   "cell_type": "code",
   "execution_count": 11,
   "id": "a25e0437-0ee3-4681-8b0b-6343779df10d",
   "metadata": {},
   "outputs": [
    {
     "name": "stdout",
     "output_type": "stream",
     "text": [
      "SELECT AVG(r.Rating) AS AverageRating FROM Reviews r JOIN Products p ON r.ProductID = p.ProductID WHERE LOWER(p.ProductName) = 'tablet';\n",
      "Time taken to run: 0.9181779380014632\n"
     ]
    },
    {
     "data": {
      "text/plain": [
       "\"\\nGround Truth: Matches 'Tablet' directly.\\nModel: Uses LOWER() function to make the comparison case-insensitive.\\n\\nThese queries are not functionally identical due to the case sensitivity handling.\\n\""
      ]
     },
     "execution_count": 11,
     "metadata": {},
     "output_type": "execute_result"
    }
   ],
   "source": [
    "t1 = time.perf_counter()\n",
    "query = \"What is the average rating of the product 'Tablet'?\"\n",
    "response = chain.invoke(query)\n",
    "print(sqlparse.format(response))\n",
    "t2 = time.perf_counter()\n",
    "print(\"Time taken to run:\",t2-t1)  # Wrong\n",
    "\n",
    "#Explanation\n",
    "'''\n",
    "Ground Truth: Matches 'Tablet' directly.\n",
    "Model: Uses LOWER() function to make the comparison case-insensitive.\n",
    "\n",
    "These queries are not functionally identical due to the case sensitivity handling.\n",
    "'''"
   ]
  },
  {
   "cell_type": "markdown",
   "id": "aa728b2d-0c3c-41f8-b424-4545350a7649",
   "metadata": {},
   "source": [
    "### Q10 - Ground Truth\n",
    "SELECT SUM(o.TotalAmount) AS TotalSpent\n",
    "\n",
    "FROM Orders o\n",
    "\n",
    "JOIN Customers c ON o.CustomerID = c.CustomerID\n",
    "\n",
    "WHERE c.FirstName = 'Alice' AND c.LastName = 'Johnson';\n",
    "\n"
   ]
  },
  {
   "cell_type": "code",
   "execution_count": 12,
   "id": "b9f15bcf-23e8-4863-94e9-4f8429cd3316",
   "metadata": {},
   "outputs": [
    {
     "name": "stdout",
     "output_type": "stream",
     "text": [
      "SELECT SUM(o.TotalAmount) AS TotalSpent FROM Orders o JOIN Customers c ON o.CustomerID = c.CustomerID WHERE LOWER(c.FirstName) = 'alice' AND LOWER(c.LastName) = 'johnson';\n",
      "Time taken to run: 1.03976578000038\n"
     ]
    },
    {
     "data": {
      "text/plain": [
       "\"\\nGround Truth: Matches 'Alice' and 'Johnson' directly.\\nModel: Uses LOWER() function to make the comparison case-insensitive.\\n\\nThese queries are not functionally identical due to the case sensitivity handling.\\n\""
      ]
     },
     "execution_count": 12,
     "metadata": {},
     "output_type": "execute_result"
    }
   ],
   "source": [
    "t1 = time.perf_counter()\n",
    "query = \"Find the total amount spent by the customer 'Alice Johnson'.\"\n",
    "response = chain.invoke(query)\n",
    "print(sqlparse.format(response))\n",
    "t2 = time.perf_counter()\n",
    "print(\"Time taken to run:\",t2-t1)   # Wrong\n",
    "\n",
    "#Explanation\n",
    "\n",
    "'''\n",
    "Ground Truth: Matches 'Alice' and 'Johnson' directly.\n",
    "Model: Uses LOWER() function to make the comparison case-insensitive.\n",
    "\n",
    "These queries are not functionally identical due to the case sensitivity handling.\n",
    "'''"
   ]
  },
  {
   "cell_type": "markdown",
   "id": "682e28e0-9fb8-476a-bb88-d210f523e8e5",
   "metadata": {},
   "source": [
    "### Q11 - Ground Truth\n",
    "SELECT p.ProductName\n",
    "\n",
    "FROM Products p\n",
    "\n",
    "LEFT JOIN Reviews r ON p.ProductID = r.ProductID\n",
    "\n",
    "WHERE r.ProductID IS NULL;"
   ]
  },
  {
   "cell_type": "code",
   "execution_count": 17,
   "id": "5b6b6ca4-dea7-4c7e-b427-6cfdac75ea53",
   "metadata": {},
   "outputs": [
    {
     "name": "stdout",
     "output_type": "stream",
     "text": [
      "SELECT p.ProductName FROM Products p LEFT JOIN Reviews r ON p.ProductID = r.ProductID WHERE r.ProductID IS NULL;\n",
      "Time taken to run: 0.8982297429997743\n"
     ]
    }
   ],
   "source": [
    "t1 = time.perf_counter()\n",
    "query = \"Which products have never been reviewed?\"\n",
    "response = chain.invoke(query)\n",
    "print(sqlparse.format(response))\n",
    "t2 = time.perf_counter()\n",
    "print(\"Time taken to run:\",t2-t1)  # correct"
   ]
  },
  {
   "cell_type": "markdown",
   "id": "439be1fb-f019-47c4-98e6-aa58e3ac81d5",
   "metadata": {},
   "source": [
    "### Q12 - Ground Truth\n",
    "SELECT FirstName, LastName\n",
    "\n",
    "FROM Employees\n",
    "\n",
    "ORDER BY HireDate\n",
    "\n",
    "LIMIT 1;"
   ]
  },
  {
   "cell_type": "code",
   "execution_count": 18,
   "id": "77082b7b-6c56-4a4b-aaf7-76e22142dfdb",
   "metadata": {},
   "outputs": [
    {
     "name": "stdout",
     "output_type": "stream",
     "text": [
      "SELECT e.FirstName, e.LastName FROM Employees e ORDER BY e.HireDate ASC LIMIT 1;\n",
      "Time taken to run: 0.8303556199998638\n"
     ]
    }
   ],
   "source": [
    "t1 = time.perf_counter()\n",
    "query = 'Which employee has been with the company the longest?'\n",
    "response = chain.invoke(query)\n",
    "print(sqlparse.format(response))\n",
    "t2 = time.perf_counter()\n",
    "print(\"Time taken to run:\",t2-t1)  # Correct"
   ]
  },
  {
   "cell_type": "markdown",
   "id": "ff633ddf-cec1-49b7-9e65-f9befb611b1b",
   "metadata": {},
   "source": [
    "### Q13 - Ground Truth\n",
    "SELECT p.ProductName\n",
    "\n",
    "FROM Products p\n",
    "\n",
    "JOIN Suppliers s ON p.SupplierID = s.SupplierID\n",
    "\n",
    "WHERE s.SupplierName = 'TechCorp';"
   ]
  },
  {
   "cell_type": "code",
   "execution_count": 19,
   "id": "c8b999a6-2403-4a2b-ae74-84e83f783c09",
   "metadata": {},
   "outputs": [
    {
     "name": "stdout",
     "output_type": "stream",
     "text": [
      "SELECT p.ProductName FROM Products p JOIN Suppliers s ON p.SupplierID = s.SupplierID WHERE LOWER(s.SupplierName) = 'techcorp';\n",
      "Time taken to run: 0.9713725749998048\n"
     ]
    }
   ],
   "source": [
    "t1 = time.perf_counter()\n",
    "query =\"List the names of all products provided by 'TechCorp'.\"\n",
    "response = chain.invoke(query)\n",
    "print(sqlparse.format(response))\n",
    "t2 = time.perf_counter()\n",
    "print(\"Time taken to run:\",t2-t1)  # Correct"
   ]
  },
  {
   "cell_type": "markdown",
   "id": "2b6156e0-ed64-4786-843a-350dd6bf362d",
   "metadata": {},
   "source": [
    "# <font color='orange'>Longer Queries below</font>"
   ]
  },
  {
   "cell_type": "markdown",
   "id": "45e5fa15-61a6-43fc-a515-9f17eba0f568",
   "metadata": {},
   "source": [
    "### Q14 - Ground Truth\n",
    "SELECT c.FirstName, c.LastName\n",
    "\n",
    "FROM Customers c\n",
    "\n",
    "JOIN Orders o ON c.CustomerID = o.CustomerID\n",
    "\n",
    "JOIN OrderDetails od ON o.OrderID = od.OrderID\n",
    "\n",
    "JOIN Products p ON od.ProductID = p.ProductID\n",
    "\n",
    "JOIN Categories cat ON p.CategoryID = cat.CategoryID\n",
    "\n",
    "WHERE cat.CategoryName = 'Electronics'\n",
    "\n",
    "GROUP BY c.CustomerID\n",
    "\n",
    "HAVING COUNT(DISTINCT p.ProductID) = (SELECT COUNT(*) FROM Products\n",
    "\n",
    "WHERE CategoryID = (SELECT CategoryID FROM Categories WHERE\n",
    "\n",
    "CategoryName = 'Electronics'));"
   ]
  },
  {
   "cell_type": "code",
   "execution_count": 20,
   "id": "44e2d5fe-5228-42b9-941f-7dd3f186c2a0",
   "metadata": {},
   "outputs": [
    {
     "name": "stdout",
     "output_type": "stream",
     "text": [
      "SELECT c.FirstName, c.LastName FROM Customers c JOIN Orders o ON c.CustomerID = o.CustomerID JOIN OrderDetails od ON o.OrderID = od.OrderID JOIN Products p ON od.ProductID = p.ProductID WHERE p.CategoryName = 'Electronics' GROUP BY c.FirstName, c.LastName HAVING COUNT(DISTINCT od.ProductID) = (SELECT COUNT(*) FROM Products pr WHERE pr.CategoryName = 'Electronics') ORDER BY c.FirstName NULLS LAST;\n",
      "Time taken to run: 1.611955129999842\n"
     ]
    }
   ],
   "source": [
    "t1 = time.perf_counter()\n",
    "query =\"Find the names of customers who have ordered all products from the 'Electronics\"\n",
    "response = chain.invoke(query)\n",
    "print(sqlparse.format(response))\n",
    "t2 = time.perf_counter()\n",
    "print(\"Time taken to run:\",t2-t1)  # Wrong"
   ]
  },
  {
   "cell_type": "markdown",
   "id": "ee6505f2-b691-47b7-a968-b7e51382bf5b",
   "metadata": {},
   "source": [
    "### Q15 - Ground Truth\n",
    "SELECT SUM(od.Quantity * od.UnitPrice) AS TotalRevenue\n",
    "\n",
    "FROM OrderDetails od\n",
    "\n",
    "JOIN Products p ON od.ProductID = p.ProductID\n",
    "\n",
    "JOIN Suppliers s ON p.SupplierID = s.SupplierID\n",
    "\n",
    "WHERE s.SupplierName = 'Gadgets Inc';\n",
    "\n"
   ]
  },
  {
   "cell_type": "code",
   "execution_count": 21,
   "id": "085eeb08-9b0c-4739-8564-dd5ff38bb4b7",
   "metadata": {},
   "outputs": [
    {
     "name": "stdout",
     "output_type": "stream",
     "text": [
      "SELECT SUM(p.UnitPrice * od.Quantity) AS TotalRevenue FROM Products p JOIN OrderDetails od ON p.ProductID = od.ProductID WHERE LOWER(p.SupplierName) = 'gadgets inc';\n",
      "Time taken to run: 1.0557892530000572\n"
     ]
    }
   ],
   "source": [
    "t1 = time.perf_counter()\n",
    "query =\"What is the total revenue generated from products supplied by 'Gadgets Inc'?\"\n",
    "response = chain.invoke(query)\n",
    "print(sqlparse.format(response))\n",
    "t2 = time.perf_counter()\n",
    "print(\"Time taken to run:\",t2-t1)   # Wrong"
   ]
  },
  {
   "cell_type": "markdown",
   "id": "0b1cf2ac-095d-4c48-a6fb-473ab8138fa6",
   "metadata": {},
   "source": [
    "### Q16 - Ground Truth\n",
    "SELECT p.ProductName\n",
    "\n",
    "FROM Products p\n",
    "\n",
    "LEFT JOIN OrderDetails od ON p.ProductID = od.ProductID\n",
    "\n",
    "WHERE od.ProductID IS NULL;\n",
    "\n"
   ]
  },
  {
   "cell_type": "code",
   "execution_count": 22,
   "id": "c5f41a43-a777-456b-9569-24b839d60dbf",
   "metadata": {},
   "outputs": [
    {
     "name": "stdout",
     "output_type": "stream",
     "text": [
      "SELECT p.ProductName FROM Products p LEFT JOIN OrderDetails od ON p.ProductID = od.ProductID WHERE od.ProductID IS NULL;\n",
      "Time taken to run: 0.9000497460001498\n"
     ]
    }
   ],
   "source": [
    "t1 = time.perf_counter()\n",
    "query =\"List the names of products that have never been ordered.\"\n",
    "response = chain.invoke(query)\n",
    "print(sqlparse.format(response))\n",
    "t2 = time.perf_counter()\n",
    "print(\"Time taken to run:\",t2-t1)  # Correct"
   ]
  },
  {
   "cell_type": "markdown",
   "id": "13e9eb29-57a4-4430-a86e-fa49e70dae70",
   "metadata": {},
   "source": [
    "### Q17 - Ground Truth\n",
    "SELECT s.ShipperName, SUM(o.TotalAmount) AS TotalValue\n",
    "\n",
    "FROM Shippers s\n",
    "\n",
    "JOIN Orders o ON s.ShipperID = o.ShipperID\n",
    "\n",
    "GROUP BY s.ShipperID\n",
    "\n",
    "ORDER BY TotalValue DESC\n",
    "\n",
    "LIMIT 1;"
   ]
  },
  {
   "cell_type": "code",
   "execution_count": 23,
   "id": "2f1af844-a594-432d-9dcc-98f993337407",
   "metadata": {},
   "outputs": [
    {
     "name": "stdout",
     "output_type": "stream",
     "text": [
      "WITH TotalOrderValue AS (SELECT o.ShipperID, SUM(o.TotalAmount) AS TotalShipperAmount FROM Orders o GROUP BY o.ShipperID) SELECT t.ShipperID, t.TotalShipperAmount FROM TotalOrderValue t ORDER BY t.TotalShipperAmount DESC NULLS LAST LIMIT 1;\n",
      "Time taken to run: 1.2833004340000116\n"
     ]
    }
   ],
   "source": [
    "t1 = time.perf_counter()\n",
    "query =\"Which shipper has handled the highest total value of orders?\"\n",
    "response = chain.invoke(query)\n",
    "print(sqlparse.format(response))\n",
    "t2 = time.perf_counter()\n",
    "print(\"Time taken to run:\",t2-t1)  # Correct"
   ]
  },
  {
   "cell_type": "markdown",
   "id": "451b897f-c5d5-4694-8e47-5d1f8a5f6852",
   "metadata": {},
   "source": [
    "### Q18 - Ground Truth\n",
    "SELECT DISTINCT c.FirstName, c.LastName FROM Customers c\n",
    "\n",
    "JOIN Orders o ON c.CustomerID = o.CustomerID\n",
    "\n",
    "JOIN OrderDetails od ON o.OrderID = od.OrderID\n",
    "\n",
    "JOIN Products p ON od.ProductID = p.ProductID\n",
    "\n",
    "WHERE o.ShipperID = (SELECT ShipperID FROM Shippers WHERE ShipperName = 'FastShip')\n",
    "\n",
    "GROUP BY o.OrderID, c.CustomerID\n",
    "\n",
    "HAVING COUNT(DISTINCT p.SupplierID) > 1;\n",
    "\n"
   ]
  },
  {
   "cell_type": "code",
   "execution_count": 24,
   "id": "5b3a53b9-3e90-49d1-a887-3ff191070ac2",
   "metadata": {},
   "outputs": [
    {
     "name": "stdout",
     "output_type": "stream",
     "text": [
      "SELECT c.FirstName, c.LastName FROM Customers c JOIN Orders o ON c.CustomerID = o.CustomerID WHERE o.ShipperID IN (SELECT ShipperID FROM Shippers WHERE ShipperName = 'FastShip') AND c.CustomerID IN (SELECT DISTINCT OrderID FROM OrderDetails od JOIN Products p ON od.ProductID = p.ProductID GROUP BY od.OrderID HAVING COUNT(DISTINCT p.SupplierID) > 1);\n",
      "Time taken to run: 1.5666713589998835\n"
     ]
    }
   ],
   "source": [
    "t1 = time.perf_counter()\n",
    "query =\"Find the names of customers who have placed orders that were shipped by 'FastShip' and contain products from multiple suppliers.\"\n",
    "response = chain.invoke(query)\n",
    "print(sqlparse.format(response))\n",
    "t2 = time.perf_counter()\n",
    "print(\"Time taken to run:\",t2-t1)  # Correct"
   ]
  },
  {
   "cell_type": "markdown",
   "id": "80deb426-df12-40f7-9b98-d5a604fd862c",
   "metadata": {},
   "source": [
    "### Q19 - Ground Truth\n",
    "SELECT p.ProductName, SUM(od.Quantity * od.UnitPrice) AS TotalRevenue\n",
    "\n",
    "FROM Products p\n",
    "\n",
    "JOIN OrderDetails od ON p.ProductID = od.ProductID\n",
    "\n",
    "GROUP BY p.ProductID\n",
    "\n",
    "ORDER BY TotalRevenue DESC\n",
    "\n",
    "LIMIT 1;"
   ]
  },
  {
   "cell_type": "code",
   "execution_count": 25,
   "id": "1984de06-b726-4bda-9eb4-052e520c03a8",
   "metadata": {},
   "outputs": [
    {
     "name": "stdout",
     "output_type": "stream",
     "text": [
      "WITH ProductSales AS (SELECT p.ProductID, SUM(od.Quantity * od.UnitPrice) AS TotalRevenue FROM OrderDetails od JOIN Products p ON od.ProductID = p.ProductID GROUP BY p.ProductID) SELECT ps.ProductID, ps.TotalRevenue FROM ProductSales ps ORDER BY ps.TotalRevenue DESC NULLS LAST LIMIT 1;\n",
      "Time taken to run: 1.316469228999722\n"
     ]
    }
   ],
   "source": [
    "t1 = time.perf_counter()\n",
    "query ='Identify the product with the highest total sales revenue.'\n",
    "response = chain.invoke(query)\n",
    "print(sqlparse.format(response))\n",
    "t2 = time.perf_counter()\n",
    "print(\"Time taken to run:\",t2-t1)   # Correct"
   ]
  },
  {
   "cell_type": "markdown",
   "id": "c759b774-7c09-40ba-89f8-2197ba7741e5",
   "metadata": {},
   "source": [
    "### Q20 - Ground Truth\n",
    "SELECT p.ProductName\n",
    "\n",
    "FROM Products p\n",
    "\n",
    "JOIN Reviews r ON p.ProductID = r.ProductID\n",
    "\n",
    "GROUP BY p.ProductID\n",
    "\n",
    "HAVING COUNT(r.ReviewID) > 1;"
   ]
  },
  {
   "cell_type": "code",
   "execution_count": 26,
   "id": "e9254fae-d821-4c48-8ad3-34ec419f6664",
   "metadata": {},
   "outputs": [
    {
     "name": "stdout",
     "output_type": "stream",
     "text": [
      "SELECT p.ProductName FROM Reviews r JOIN Products p ON r.ProductID = p.ProductID GROUP BY p.ProductName HAVING COUNT(DISTINCT r.CustomerID) > 1 ORDER BY p.ProductName NULLS LAST;\n",
      "Time taken to run: 1.104371194000123\n"
     ]
    }
   ],
   "source": [
    "t1 = time.perf_counter()\n",
    "query ='List the products that have been reviewed by more than one customer?'\n",
    "response = chain.invoke(query)\n",
    "print(sqlparse.format(response))\n",
    "t2 = time.perf_counter()\n",
    "print(\"Time taken to run:\",t2-t1)  # Correct"
   ]
  },
  {
   "cell_type": "code",
   "execution_count": null,
   "id": "9ca4b7d1-3423-4754-9025-e52cf67e629a",
   "metadata": {},
   "outputs": [],
   "source": []
  },
  {
   "cell_type": "code",
   "execution_count": null,
   "id": "36f4f151-3c0e-4304-b8c9-e36b590b3973",
   "metadata": {},
   "outputs": [],
   "source": []
  },
  {
   "cell_type": "code",
   "execution_count": null,
   "id": "fcd80916-3b56-4290-bf96-66c8dfd4b65c",
   "metadata": {},
   "outputs": [],
   "source": []
  },
  {
   "cell_type": "code",
   "execution_count": null,
   "id": "cbf723f2-a6d5-4bd2-a1c2-49c7fc49e884",
   "metadata": {},
   "outputs": [],
   "source": []
  }
 ],
 "metadata": {
  "kernelspec": {
   "display_name": "Python 3 (ipykernel)",
   "language": "python",
   "name": "python3"
  },
  "language_info": {
   "codemirror_mode": {
    "name": "ipython",
    "version": 3
   },
   "file_extension": ".py",
   "mimetype": "text/x-python",
   "name": "python",
   "nbconvert_exporter": "python",
   "pygments_lexer": "ipython3",
   "version": "3.10.0"
  }
 },
 "nbformat": 4,
 "nbformat_minor": 5
}
