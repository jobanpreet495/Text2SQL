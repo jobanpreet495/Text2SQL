{
 "cells": [
  {
   "cell_type": "markdown",
   "id": "a055c075-f4d7-4bad-8135-6a91838d6e9d",
   "metadata": {},
   "source": [
    "## Pre-requisites"
   ]
  },
  {
   "cell_type": "code",
   "execution_count": 21,
   "id": "2f804100-6608-4ae7-9bce-ae92002cf0ac",
   "metadata": {},
   "outputs": [],
   "source": [
    "# !pip install ollama\n",
    "# !pip install sqlparse\n",
    "# !pip install langchain\n",
    "# !pip install langchain-core\n",
    "# !pip install langchain_community"
   ]
  },
  {
   "cell_type": "markdown",
   "id": "6de56105-dce5-4eda-83b3-43531205807c",
   "metadata": {},
   "source": [
    "## Set up ollama on your system (Step-1)\n",
    "#### Linux system\n",
    "* Command --> curl -fsSL https://ollama.com/install.sh | sh\n",
    "* Website --> https://ollama.com/download\n",
    "\n",
    "## Setup LLM (Step-2)\n",
    "* Command --> ollama pull granite-code:8b-instruct-q4_0 \n",
    "* Website --> https://ollama.com/library/granite-code:8b-instruct-q4_0\n",
    "* We are using 8b 4bit quantized model . Model is present  in 3b , 8b, 20b,34b variants . Base and quantized versions are present. You can use depending on the system configuration."
   ]
  },
  {
   "cell_type": "markdown",
   "id": "fde04e82-db47-4fa5-a58e-c725c220eb57",
   "metadata": {},
   "source": [
    "### Import Libraries"
   ]
  },
  {
   "cell_type": "code",
   "execution_count": 33,
   "id": "8561e33c-144c-40f0-ac85-f8e7304c2e71",
   "metadata": {},
   "outputs": [],
   "source": [
    "from langchain_community.llms import Ollama\n",
    "from langchain_core.output_parsers import StrOutputParser\n",
    "from langchain_core.prompts import PromptTemplate\n",
    "from langchain.chains import create_sql_query_chain\n",
    "from langchain_community.utilities import SQLDatabase\n",
    "import time"
   ]
  },
  {
   "cell_type": "markdown",
   "id": "8c48c642-0dd6-4e64-b0fa-d6d7bdb7d27a",
   "metadata": {},
   "source": [
    "## Access LLM running on your system . \n",
    "* base_url will be http://localhost:11434 in your case . I am running it on server."
   ]
  },
  {
   "cell_type": "code",
   "execution_count": 34,
   "id": "6590f730-8b79-435e-bc83-c90fcd918f57",
   "metadata": {},
   "outputs": [],
   "source": [
    "llm = Ollama(base_url=\"http://172.27.222.2:11434\",\n",
    "    model=\"granite-code:8b-instruct-q4_0\"\n",
    ") "
   ]
  },
  {
   "cell_type": "markdown",
   "id": "bf75c8ad-b34f-41f9-93d8-929c62192d77",
   "metadata": {},
   "source": [
    "## Setup  mysql and access the database"
   ]
  },
  {
   "cell_type": "code",
   "execution_count": 35,
   "id": "9d79ab04-b783-42c1-ae16-7e4b012227a7",
   "metadata": {},
   "outputs": [],
   "source": [
    "mysql_uri = 'mysql+mysqlconnector://root@localhost:3306/test'\n",
    "db = SQLDatabase.from_uri(mysql_uri)"
   ]
  },
  {
   "cell_type": "code",
   "execution_count": 36,
   "id": "a012b850-11eb-4519-9cff-f40a4a67c049",
   "metadata": {},
   "outputs": [
    {
     "data": {
      "text/plain": [
       "['EmployeeDetails', 'Employees']"
      ]
     },
     "execution_count": 36,
     "metadata": {},
     "output_type": "execute_result"
    }
   ],
   "source": [
    "db.get_table_names()   # These are the tables present in database named 'test'"
   ]
  },
  {
   "cell_type": "code",
   "execution_count": 57,
   "id": "9f36aa06-a9f6-404e-91ce-4f5caf61b113",
   "metadata": {},
   "outputs": [],
   "source": [
    "chain = create_sql_query_chain(llm, db)   #This chain generates SQL queries for the given database."
   ]
  },
  {
   "cell_type": "markdown",
   "id": "87a66e62-40c6-452a-8b7b-0061e93a269b",
   "metadata": {},
   "source": [
    "#### Generate a sql query from natural language ."
   ]
  },
  {
   "cell_type": "code",
   "execution_count": 75,
   "id": "2c20ca7b-7787-4504-8743-12fcf9b14da5",
   "metadata": {},
   "outputs": [
    {
     "name": "stdout",
     "output_type": "stream",
     "text": [
      "SELECT BirthDate, CONCAT(FirstName, ' ', LastName) AS FullName, DATEDIFF(CURDATE(), BirthDate) AS Age\n",
      "FROM EmployeeDetails\n",
      "ORDER BY Age ASC, FullName ASC\n",
      "LIMIT 2;\n"
     ]
    }
   ],
   "source": [
    "response = chain.invoke({'question':'Retrieve the youngest and oldest employees details along with their ages.'})\n",
    "print(response)"
   ]
  },
  {
   "cell_type": "code",
   "execution_count": 76,
   "id": "aee0df1b-7ccc-4598-82c3-99c8151d5f12",
   "metadata": {},
   "outputs": [
    {
     "data": {
      "text/plain": [
       "\"SELECT BirthDate, CONCAT(FirstName, ' ', LastName) AS FullName, DATEDIFF(CURDATE(), BirthDate) AS Age\\nFROM EmployeeDetails\\nORDER BY Age ASC, FullName ASC\\nLIMIT 2;\""
      ]
     },
     "execution_count": 76,
     "metadata": {},
     "output_type": "execute_result"
    }
   ],
   "source": [
    "response"
   ]
  },
  {
   "cell_type": "markdown",
   "id": "fbb8f466-3696-47be-9720-2587c0a95ebe",
   "metadata": {},
   "source": [
    "### Evaluation \n",
    "* Our database contain two tables named Employees and EmployeeDetails . \n",
    "* For evaluation purpose , we have generated 20 questions using ChatGPT , 10-simple , 5-medium , 5-complex along with queries.\n",
    "* We will  match ground truth query with LLM generated query . We will execute both the queries (chatgpt generated and LLM generated manually in mysql and check the response generated .)"
   ]
  },
  {
   "cell_type": "code",
   "execution_count": 79,
   "id": "5ada6f2b-8b48-4e7a-b945-9c105b422ebc",
   "metadata": {},
   "outputs": [],
   "source": [
    "sql_questions = [\n",
    "    \"Retrieve all columns for employees with an EmployeeID less than 10.\",\n",
    "    \"Retrieve the first name and salary of employees in the IT department.\",\n",
    "    \"Count the number of employees in each department.\",\n",
    "    \"Retrieve employees whose salary is greater than $70,000.\",\n",
    "    \"Retrieve employees sorted by last name in descending order.\",\n",
    "    \"Calculate the average salary of employees.\",\n",
    "    \"Retrieve employees birth after January 1st, 1982.\",\n",
    "    \"Retrieve employees with the first name starting with 'J'.\",\n",
    "    \"Retrieve employees sorted by department and position.\",\n",
    "    \"Retrieve employees with no assigned department.\",\n",
    "    \"Retrieve employees along with their detailed information (from EmployeeDetails).\",\n",
    "    \"Calculate the total number of employees and average salary per department.\",\n",
    "    \"Retrieve the employee details who live in cities that have more than one employee, along with the count of employees in those cities.\",\n",
    "    \"Retrieve employees with salaries between $60,000 and $80,000, sorted by salary.\",\n",
    "    \"Retrieve the top 3 highest paid employees.\",\n",
    "    \"Retrieve the department with the highest average salary.\",\n",
    "    \"Retrieve employees who are earning more than the average salary of their department.\",\n",
    "    \"Retrieve the total number of employees in each city and their average salary.\",\n",
    "    \"Retrieve the youngest and oldest employees' details along with their ages.\",\n",
    "    \"Retrieve employees who have the same last name as any other employee.\"\n",
    "]"
   ]
  },
  {
   "cell_type": "code",
   "execution_count": 80,
   "id": "4f7a127e-6c20-4a0a-afa8-9c88759a38fd",
   "metadata": {},
   "outputs": [
    {
     "data": {
      "text/plain": [
       "20"
      ]
     },
     "execution_count": 80,
     "metadata": {},
     "output_type": "execute_result"
    }
   ],
   "source": [
    "len(sql_questions)  # Total number of sql questions"
   ]
  },
  {
   "cell_type": "markdown",
   "id": "8350d70d-9153-4b47-90ea-329dbeec979f",
   "metadata": {},
   "source": [
    "#### Lets create a function that  takes sql_question one by one and return sql  query "
   ]
  },
  {
   "cell_type": "code",
   "execution_count": 81,
   "id": "c7adae47-e228-491b-8404-e5797c04c59c",
   "metadata": {},
   "outputs": [],
   "source": [
    "model_response=  []\n",
    "def sql_query(questions_list):\n",
    "    for i in questions_list:\n",
    "        response = chain.invoke({'question':i})\n",
    "        model_response.append(response)\n",
    "\n",
    "sql_query(sql_questions)"
   ]
  },
  {
   "cell_type": "markdown",
   "id": "85bb066a-5927-425b-bfc5-835394b76d72",
   "metadata": {},
   "source": [
    "#### Create a Dataframe"
   ]
  },
  {
   "cell_type": "code",
   "execution_count": 82,
   "id": "8d281478-5e4a-4b6e-9056-e5c8b3c21c1f",
   "metadata": {},
   "outputs": [],
   "source": [
    "import pandas as pd\n",
    "ground_truth = [\n",
    "    \"SELECT * FROM Employees WHERE EmployeeID < 10;\",\n",
    "    \"SELECT FirstName, Salary FROM Employees WHERE Department = 'IT';\",\n",
    "    \"SELECT Department, COUNT(*) AS NumEmployees FROM Employees GROUP BY Department;\",\n",
    "    \"SELECT * FROM Employees WHERE Salary > 70000;\",\n",
    "    \"SELECT * FROM Employees ORDER BY LastName DESC;\",\n",
    "    \"SELECT AVG(Salary) AS AvgSalary FROM Employees;\",\n",
    "    \"SELECT * FROM Employees WHERE HireDate > '1982-01-01';\",\n",
    "    \"SELECT * FROM Employees WHERE FirstName LIKE 'J%';\",\n",
    "    \"SELECT * FROM Employees ORDER BY Department, Position;\",\n",
    "    \"SELECT * FROM Employees WHERE Department IS NULL;\",\n",
    "    \"SELECT E.*, ED.BirthDate, ED.Address, ED.City, ED.State, ED.ZipCode, ED.Phone FROM Employees E JOIN EmployeeDetails ED ON E.EmployeeID = ED.EmployeeID;\",\n",
    "    \"SELECT Department, COUNT(*) AS NumEmployees, AVG(Salary) AS AvgSalary FROM Employees GROUP BY Department;\",\n",
    "    \"SELECT ed.City, COUNT(ed.EmployeeID) AS EmployeeCount, GROUP_CONCAT(e.FirstName, ' ', e.LastName) AS EmployeeNames FROM EmployeeDetails ed JOIN Employees e ON ed.EmployeeID = e.EmployeeID GROUP BY ed.City HAVING COUNT(ed.EmployeeID) > 1 ORDER BY EmployeeCount DESC;\",\n",
    "    \"SELECT * FROM Employees WHERE Salary BETWEEN 60000 AND 80000 ORDER BY Salary;\",\n",
    "    \"SELECT * FROM Employees ORDER BY Salary DESC LIMIT 3;\",\n",
    "    \"SELECT Department, AVG(Salary) AS AvgSalary FROM Employees GROUP BY Department ORDER BY AvgSalary DESC LIMIT 1;\",\n",
    "    \"SELECT E.* FROM Employees E JOIN (SELECT Department, AVG(Salary) AS AvgSalary FROM Employees GROUP BY Department) AS AvgSalaries ON E.Department = AvgSalaries.Department WHERE E.Salary > AvgSalaries.AvgSalary;\",\n",
    "    \"SELECT ED.City, COUNT(*) AS NumEmployees, AVG(E.Salary) AS AvgSalary FROM Employees E JOIN EmployeeDetails ED ON E.EmployeeID = ED.EmployeeID GROUP BY ED.City;\",\n",
    "    \"SELECT e.FirstName, e.LastName, ed.BirthDate, TIMESTAMPDIFF(YEAR, ed.BirthDate, CURDATE()) AS Age, CASE WHEN ed.BirthDate = (SELECT MIN(BirthDate) FROM EmployeeDetails) THEN 'Oldest' WHEN ed.BirthDate = (SELECT MAX(BirthDate) FROM EmployeeDetails) THEN 'Youngest' END AS AgeCategory FROM EmployeeDetails ed JOIN Employees e ON ed.EmployeeID = e.EmployeeID WHERE ed.BirthDate = (SELECT MIN(BirthDate) FROM EmployeeDetails) OR ed.BirthDate = (SELECT MAX(BirthDate) FROM EmployeeDetails);\",\n",
    "    \"SELECT E1.EmployeeID, E1.FirstName, E1.LastName FROM Employees E1 JOIN Employees E2 ON E1.LastName = E2.LastName AND E1.EmployeeID != E2.EmployeeID;\"\n",
    "]\n",
    "\n",
    "# Create a DataFrame\n",
    "df = pd.DataFrame({\n",
    "    'Question': sql_questions,\n",
    "    'Ground Truth Query':ground_truth ,\n",
    "    'Granite Response (LLM)': model_response ,\n",
    "    'Query Level':['simple','simple','simple','simple','simple','simple','simple','simple','simple','simple','medium','medium','medium','medium','medium','complex','complex','complex','complex','complex'],\n",
    "    'Match':['correct','correct' ,'correct','correct','correct','correct' ,'correct','correct','correct','correct','correct','correct','wrong','correct','correct','correct','correct','wrong','wrong','correct']\n",
    "})"
   ]
  },
  {
   "cell_type": "code",
   "execution_count": 83,
   "id": "22087836-baff-49f6-bafd-0b0c0ef9b6fc",
   "metadata": {},
   "outputs": [
    {
     "data": {
      "text/html": [
       "<div>\n",
       "<style scoped>\n",
       "    .dataframe tbody tr th:only-of-type {\n",
       "        vertical-align: middle;\n",
       "    }\n",
       "\n",
       "    .dataframe tbody tr th {\n",
       "        vertical-align: top;\n",
       "    }\n",
       "\n",
       "    .dataframe thead th {\n",
       "        text-align: right;\n",
       "    }\n",
       "</style>\n",
       "<table border=\"1\" class=\"dataframe\">\n",
       "  <thead>\n",
       "    <tr style=\"text-align: right;\">\n",
       "      <th></th>\n",
       "      <th>Question</th>\n",
       "      <th>Ground Truth Query</th>\n",
       "      <th>Granite Response (LLM)</th>\n",
       "      <th>Query Level</th>\n",
       "      <th>Match</th>\n",
       "    </tr>\n",
       "  </thead>\n",
       "  <tbody>\n",
       "    <tr>\n",
       "      <th>0</th>\n",
       "      <td>Retrieve all columns for employees with an Emp...</td>\n",
       "      <td>SELECT * FROM Employees WHERE EmployeeID &lt; 10;</td>\n",
       "      <td>SELECT * FROM Employees WHERE EmployeeID &lt; 10;</td>\n",
       "      <td>simple</td>\n",
       "      <td>correct</td>\n",
       "    </tr>\n",
       "    <tr>\n",
       "      <th>1</th>\n",
       "      <td>Retrieve the first name and salary of employee...</td>\n",
       "      <td>SELECT FirstName, Salary FROM Employees WHERE ...</td>\n",
       "      <td>SELECT `FirstName`, `Salary` FROM `Employees` ...</td>\n",
       "      <td>simple</td>\n",
       "      <td>correct</td>\n",
       "    </tr>\n",
       "    <tr>\n",
       "      <th>2</th>\n",
       "      <td>Count the number of employees in each department.</td>\n",
       "      <td>SELECT Department, COUNT(*) AS NumEmployees FR...</td>\n",
       "      <td>SELECT Department, COUNT(*) FROM Employees GRO...</td>\n",
       "      <td>simple</td>\n",
       "      <td>correct</td>\n",
       "    </tr>\n",
       "    <tr>\n",
       "      <th>3</th>\n",
       "      <td>Retrieve employees whose salary is greater tha...</td>\n",
       "      <td>SELECT * FROM Employees WHERE Salary &gt; 70000;</td>\n",
       "      <td>SELECT * FROM Employees WHERE Salary &gt; 70000;</td>\n",
       "      <td>simple</td>\n",
       "      <td>correct</td>\n",
       "    </tr>\n",
       "    <tr>\n",
       "      <th>4</th>\n",
       "      <td>Retrieve employees sorted by last name in desc...</td>\n",
       "      <td>SELECT * FROM Employees ORDER BY LastName DESC;</td>\n",
       "      <td>SELECT * FROM Employees ORDER BY LastName DESC;</td>\n",
       "      <td>simple</td>\n",
       "      <td>correct</td>\n",
       "    </tr>\n",
       "    <tr>\n",
       "      <th>5</th>\n",
       "      <td>Calculate the average salary of employees.</td>\n",
       "      <td>SELECT AVG(Salary) AS AvgSalary FROM Employees;</td>\n",
       "      <td>SELECT AVG(`Salary`) FROM `Employees`</td>\n",
       "      <td>simple</td>\n",
       "      <td>correct</td>\n",
       "    </tr>\n",
       "    <tr>\n",
       "      <th>6</th>\n",
       "      <td>Retrieve employees birth after January 1st, 1982.</td>\n",
       "      <td>SELECT * FROM Employees WHERE HireDate &gt; '1982...</td>\n",
       "      <td>SELECT * FROM EmployeeDetails WHERE BirthDate ...</td>\n",
       "      <td>simple</td>\n",
       "      <td>correct</td>\n",
       "    </tr>\n",
       "    <tr>\n",
       "      <th>7</th>\n",
       "      <td>Retrieve employees with the first name startin...</td>\n",
       "      <td>SELECT * FROM Employees WHERE FirstName LIKE '...</td>\n",
       "      <td>SELECT * FROM Employees WHERE FirstName LIKE '...</td>\n",
       "      <td>simple</td>\n",
       "      <td>correct</td>\n",
       "    </tr>\n",
       "    <tr>\n",
       "      <th>8</th>\n",
       "      <td>Retrieve employees sorted by department and po...</td>\n",
       "      <td>SELECT * FROM Employees ORDER BY Department, P...</td>\n",
       "      <td>SELECT * FROM Employees ORDER BY Department, P...</td>\n",
       "      <td>simple</td>\n",
       "      <td>correct</td>\n",
       "    </tr>\n",
       "    <tr>\n",
       "      <th>9</th>\n",
       "      <td>Retrieve employees with no assigned department.</td>\n",
       "      <td>SELECT * FROM Employees WHERE Department IS NULL;</td>\n",
       "      <td>SELECT `Employees`.`EmployeeID`, `Employees`.`...</td>\n",
       "      <td>simple</td>\n",
       "      <td>correct</td>\n",
       "    </tr>\n",
       "    <tr>\n",
       "      <th>10</th>\n",
       "      <td>Retrieve employees along with their detailed i...</td>\n",
       "      <td>SELECT E.*, ED.BirthDate, ED.Address, ED.City,...</td>\n",
       "      <td>SELECT * FROM Employees E \\nLEFT JOIN Employee...</td>\n",
       "      <td>medium</td>\n",
       "      <td>correct</td>\n",
       "    </tr>\n",
       "    <tr>\n",
       "      <th>11</th>\n",
       "      <td>Calculate the total number of employees and av...</td>\n",
       "      <td>SELECT Department, COUNT(*) AS NumEmployees, A...</td>\n",
       "      <td>SELECT COUNT(*), Department, AVG(Salary) FROM ...</td>\n",
       "      <td>medium</td>\n",
       "      <td>correct</td>\n",
       "    </tr>\n",
       "    <tr>\n",
       "      <th>12</th>\n",
       "      <td>Retrieve the employee details who live in citi...</td>\n",
       "      <td>SELECT ed.City, COUNT(ed.EmployeeID) AS Employ...</td>\n",
       "      <td>SELECT City, COUNT(*) as EmployeeCount\\nFROM E...</td>\n",
       "      <td>medium</td>\n",
       "      <td>wrong</td>\n",
       "    </tr>\n",
       "    <tr>\n",
       "      <th>13</th>\n",
       "      <td>Retrieve employees with salaries between $60,0...</td>\n",
       "      <td>SELECT * FROM Employees WHERE Salary BETWEEN 6...</td>\n",
       "      <td>SELECT * FROM Employees WHERE Salary BETWEEN 6...</td>\n",
       "      <td>medium</td>\n",
       "      <td>correct</td>\n",
       "    </tr>\n",
       "    <tr>\n",
       "      <th>14</th>\n",
       "      <td>Retrieve the top 3 highest paid employees.</td>\n",
       "      <td>SELECT * FROM Employees ORDER BY Salary DESC L...</td>\n",
       "      <td>SELECT `FirstName`, `LastName`, `Salary` FROM ...</td>\n",
       "      <td>medium</td>\n",
       "      <td>correct</td>\n",
       "    </tr>\n",
       "    <tr>\n",
       "      <th>15</th>\n",
       "      <td>Retrieve the department with the highest avera...</td>\n",
       "      <td>SELECT Department, AVG(Salary) AS AvgSalary FR...</td>\n",
       "      <td>SELECT Department, AVG(Salary) AS AvgSalary\\nF...</td>\n",
       "      <td>complex</td>\n",
       "      <td>correct</td>\n",
       "    </tr>\n",
       "    <tr>\n",
       "      <th>16</th>\n",
       "      <td>Retrieve employees who are earning more than t...</td>\n",
       "      <td>SELECT E.* FROM Employees E JOIN (SELECT Depar...</td>\n",
       "      <td>SELECT a.* \\nFROM Employees a \\nINNER JOIN (\\n...</td>\n",
       "      <td>complex</td>\n",
       "      <td>correct</td>\n",
       "    </tr>\n",
       "    <tr>\n",
       "      <th>17</th>\n",
       "      <td>Retrieve the total number of employees in each...</td>\n",
       "      <td>SELECT ED.City, COUNT(*) AS NumEmployees, AVG(...</td>\n",
       "      <td>SELECT City, COUNT(EmployeeID) AS 'Total Emplo...</td>\n",
       "      <td>complex</td>\n",
       "      <td>wrong</td>\n",
       "    </tr>\n",
       "    <tr>\n",
       "      <th>18</th>\n",
       "      <td>Retrieve the youngest and oldest employees' de...</td>\n",
       "      <td>SELECT e.FirstName, e.LastName, ed.BirthDate, ...</td>\n",
       "      <td>SELECT FirstName, LastName, (CURDATE() - Birth...</td>\n",
       "      <td>complex</td>\n",
       "      <td>wrong</td>\n",
       "    </tr>\n",
       "    <tr>\n",
       "      <th>19</th>\n",
       "      <td>Retrieve employees who have the same last name...</td>\n",
       "      <td>SELECT E1.EmployeeID, E1.FirstName, E1.LastNam...</td>\n",
       "      <td>SELECT FirstName, LastName\\nFROM Employees\\nWH...</td>\n",
       "      <td>complex</td>\n",
       "      <td>correct</td>\n",
       "    </tr>\n",
       "  </tbody>\n",
       "</table>\n",
       "</div>"
      ],
      "text/plain": [
       "                                             Question  \\\n",
       "0   Retrieve all columns for employees with an Emp...   \n",
       "1   Retrieve the first name and salary of employee...   \n",
       "2   Count the number of employees in each department.   \n",
       "3   Retrieve employees whose salary is greater tha...   \n",
       "4   Retrieve employees sorted by last name in desc...   \n",
       "5          Calculate the average salary of employees.   \n",
       "6   Retrieve employees birth after January 1st, 1982.   \n",
       "7   Retrieve employees with the first name startin...   \n",
       "8   Retrieve employees sorted by department and po...   \n",
       "9     Retrieve employees with no assigned department.   \n",
       "10  Retrieve employees along with their detailed i...   \n",
       "11  Calculate the total number of employees and av...   \n",
       "12  Retrieve the employee details who live in citi...   \n",
       "13  Retrieve employees with salaries between $60,0...   \n",
       "14         Retrieve the top 3 highest paid employees.   \n",
       "15  Retrieve the department with the highest avera...   \n",
       "16  Retrieve employees who are earning more than t...   \n",
       "17  Retrieve the total number of employees in each...   \n",
       "18  Retrieve the youngest and oldest employees' de...   \n",
       "19  Retrieve employees who have the same last name...   \n",
       "\n",
       "                                   Ground Truth Query  \\\n",
       "0      SELECT * FROM Employees WHERE EmployeeID < 10;   \n",
       "1   SELECT FirstName, Salary FROM Employees WHERE ...   \n",
       "2   SELECT Department, COUNT(*) AS NumEmployees FR...   \n",
       "3       SELECT * FROM Employees WHERE Salary > 70000;   \n",
       "4     SELECT * FROM Employees ORDER BY LastName DESC;   \n",
       "5     SELECT AVG(Salary) AS AvgSalary FROM Employees;   \n",
       "6   SELECT * FROM Employees WHERE HireDate > '1982...   \n",
       "7   SELECT * FROM Employees WHERE FirstName LIKE '...   \n",
       "8   SELECT * FROM Employees ORDER BY Department, P...   \n",
       "9   SELECT * FROM Employees WHERE Department IS NULL;   \n",
       "10  SELECT E.*, ED.BirthDate, ED.Address, ED.City,...   \n",
       "11  SELECT Department, COUNT(*) AS NumEmployees, A...   \n",
       "12  SELECT ed.City, COUNT(ed.EmployeeID) AS Employ...   \n",
       "13  SELECT * FROM Employees WHERE Salary BETWEEN 6...   \n",
       "14  SELECT * FROM Employees ORDER BY Salary DESC L...   \n",
       "15  SELECT Department, AVG(Salary) AS AvgSalary FR...   \n",
       "16  SELECT E.* FROM Employees E JOIN (SELECT Depar...   \n",
       "17  SELECT ED.City, COUNT(*) AS NumEmployees, AVG(...   \n",
       "18  SELECT e.FirstName, e.LastName, ed.BirthDate, ...   \n",
       "19  SELECT E1.EmployeeID, E1.FirstName, E1.LastNam...   \n",
       "\n",
       "                               Granite Response (LLM) Query Level    Match  \n",
       "0      SELECT * FROM Employees WHERE EmployeeID < 10;      simple  correct  \n",
       "1   SELECT `FirstName`, `Salary` FROM `Employees` ...      simple  correct  \n",
       "2   SELECT Department, COUNT(*) FROM Employees GRO...      simple  correct  \n",
       "3       SELECT * FROM Employees WHERE Salary > 70000;      simple  correct  \n",
       "4     SELECT * FROM Employees ORDER BY LastName DESC;      simple  correct  \n",
       "5               SELECT AVG(`Salary`) FROM `Employees`      simple  correct  \n",
       "6   SELECT * FROM EmployeeDetails WHERE BirthDate ...      simple  correct  \n",
       "7   SELECT * FROM Employees WHERE FirstName LIKE '...      simple  correct  \n",
       "8   SELECT * FROM Employees ORDER BY Department, P...      simple  correct  \n",
       "9   SELECT `Employees`.`EmployeeID`, `Employees`.`...      simple  correct  \n",
       "10  SELECT * FROM Employees E \\nLEFT JOIN Employee...      medium  correct  \n",
       "11  SELECT COUNT(*), Department, AVG(Salary) FROM ...      medium  correct  \n",
       "12  SELECT City, COUNT(*) as EmployeeCount\\nFROM E...      medium    wrong  \n",
       "13  SELECT * FROM Employees WHERE Salary BETWEEN 6...      medium  correct  \n",
       "14  SELECT `FirstName`, `LastName`, `Salary` FROM ...      medium  correct  \n",
       "15  SELECT Department, AVG(Salary) AS AvgSalary\\nF...     complex  correct  \n",
       "16  SELECT a.* \\nFROM Employees a \\nINNER JOIN (\\n...     complex  correct  \n",
       "17  SELECT City, COUNT(EmployeeID) AS 'Total Emplo...     complex    wrong  \n",
       "18  SELECT FirstName, LastName, (CURDATE() - Birth...     complex    wrong  \n",
       "19  SELECT FirstName, LastName\\nFROM Employees\\nWH...     complex  correct  "
      ]
     },
     "execution_count": 83,
     "metadata": {},
     "output_type": "execute_result"
    }
   ],
   "source": [
    "df"
   ]
  },
  {
   "cell_type": "code",
   "execution_count": 85,
   "id": "37ec11e7-89d9-4aed-baa2-441df471085b",
   "metadata": {},
   "outputs": [],
   "source": [
    "df.to_csv(\"granite_eval.csv\")"
   ]
  },
  {
   "cell_type": "code",
   "execution_count": null,
   "id": "b4254f4f-7514-4252-b01b-c37423c9af78",
   "metadata": {},
   "outputs": [],
   "source": []
  }
 ],
 "metadata": {
  "kernelspec": {
   "display_name": "Python 3 (ipykernel)",
   "language": "python",
   "name": "python3"
  },
  "language_info": {
   "codemirror_mode": {
    "name": "ipython",
    "version": 3
   },
   "file_extension": ".py",
   "mimetype": "text/x-python",
   "name": "python",
   "nbconvert_exporter": "python",
   "pygments_lexer": "ipython3",
   "version": "3.10.0"
  }
 },
 "nbformat": 4,
 "nbformat_minor": 5
}
